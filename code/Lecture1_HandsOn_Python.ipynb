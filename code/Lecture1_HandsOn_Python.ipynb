{
 "cells": [
  {
   "cell_type": "markdown",
   "id": "323f5409",
   "metadata": {},
   "source": [
    "# Predictive Analytics: Regression and Classification\n",
    "\n",
    "## Instructor: Sourish\n",
    "\n",
    "### Lecture 1:\n",
    "\n",
    "#### Objective:\n",
    "\n",
    "The objective of this Python hands-on is to understand how OLS estimation for Regression model works in Regression"
   ]
  },
  {
   "cell_type": "code",
   "execution_count": 2,
   "id": "ceba18cf",
   "metadata": {},
   "outputs": [],
   "source": [
    "# Load pandas and numpy\n",
    "import pandas as pd\n",
    "import numpy as np\n",
    "# Read CSV file into DataFrame df\n",
    "df = pd.read_csv('mtcars.csv')"
   ]
  },
  {
   "cell_type": "code",
   "execution_count": 3,
   "id": "aa015cab",
   "metadata": {
    "scrolled": true
   },
   "outputs": [
    {
     "data": {
      "text/html": [
       "<div>\n",
       "<style scoped>\n",
       "    .dataframe tbody tr th:only-of-type {\n",
       "        vertical-align: middle;\n",
       "    }\n",
       "\n",
       "    .dataframe tbody tr th {\n",
       "        vertical-align: top;\n",
       "    }\n",
       "\n",
       "    .dataframe thead th {\n",
       "        text-align: right;\n",
       "    }\n",
       "</style>\n",
       "<table border=\"1\" class=\"dataframe\">\n",
       "  <thead>\n",
       "    <tr style=\"text-align: right;\">\n",
       "      <th></th>\n",
       "      <th>mpg</th>\n",
       "      <th>cyl</th>\n",
       "      <th>disp</th>\n",
       "      <th>hp</th>\n",
       "      <th>drat</th>\n",
       "      <th>wt</th>\n",
       "      <th>qsec</th>\n",
       "      <th>vs</th>\n",
       "      <th>am</th>\n",
       "      <th>gear</th>\n",
       "      <th>carb</th>\n",
       "    </tr>\n",
       "  </thead>\n",
       "  <tbody>\n",
       "    <tr>\n",
       "      <th>0</th>\n",
       "      <td>21.0</td>\n",
       "      <td>6</td>\n",
       "      <td>160.0</td>\n",
       "      <td>110</td>\n",
       "      <td>3.90</td>\n",
       "      <td>2.620</td>\n",
       "      <td>16.46</td>\n",
       "      <td>0</td>\n",
       "      <td>1</td>\n",
       "      <td>4</td>\n",
       "      <td>4</td>\n",
       "    </tr>\n",
       "    <tr>\n",
       "      <th>1</th>\n",
       "      <td>21.0</td>\n",
       "      <td>6</td>\n",
       "      <td>160.0</td>\n",
       "      <td>110</td>\n",
       "      <td>3.90</td>\n",
       "      <td>2.875</td>\n",
       "      <td>17.02</td>\n",
       "      <td>0</td>\n",
       "      <td>1</td>\n",
       "      <td>4</td>\n",
       "      <td>4</td>\n",
       "    </tr>\n",
       "    <tr>\n",
       "      <th>2</th>\n",
       "      <td>22.8</td>\n",
       "      <td>4</td>\n",
       "      <td>108.0</td>\n",
       "      <td>93</td>\n",
       "      <td>3.85</td>\n",
       "      <td>2.320</td>\n",
       "      <td>18.61</td>\n",
       "      <td>1</td>\n",
       "      <td>1</td>\n",
       "      <td>4</td>\n",
       "      <td>1</td>\n",
       "    </tr>\n",
       "    <tr>\n",
       "      <th>3</th>\n",
       "      <td>21.4</td>\n",
       "      <td>6</td>\n",
       "      <td>258.0</td>\n",
       "      <td>110</td>\n",
       "      <td>3.08</td>\n",
       "      <td>3.215</td>\n",
       "      <td>19.44</td>\n",
       "      <td>1</td>\n",
       "      <td>0</td>\n",
       "      <td>3</td>\n",
       "      <td>1</td>\n",
       "    </tr>\n",
       "    <tr>\n",
       "      <th>4</th>\n",
       "      <td>18.7</td>\n",
       "      <td>8</td>\n",
       "      <td>360.0</td>\n",
       "      <td>175</td>\n",
       "      <td>3.15</td>\n",
       "      <td>3.440</td>\n",
       "      <td>17.02</td>\n",
       "      <td>0</td>\n",
       "      <td>0</td>\n",
       "      <td>3</td>\n",
       "      <td>2</td>\n",
       "    </tr>\n",
       "  </tbody>\n",
       "</table>\n",
       "</div>"
      ],
      "text/plain": [
       "    mpg  cyl   disp   hp  drat     wt   qsec  vs  am  gear  carb\n",
       "0  21.0    6  160.0  110  3.90  2.620  16.46   0   1     4     4\n",
       "1  21.0    6  160.0  110  3.90  2.875  17.02   0   1     4     4\n",
       "2  22.8    4  108.0   93  3.85  2.320  18.61   1   1     4     1\n",
       "3  21.4    6  258.0  110  3.08  3.215  19.44   1   0     3     1\n",
       "4  18.7    8  360.0  175  3.15  3.440  17.02   0   0     3     2"
      ]
     },
     "execution_count": 3,
     "metadata": {},
     "output_type": "execute_result"
    }
   ],
   "source": [
    "df.head()"
   ]
  },
  {
   "cell_type": "code",
   "execution_count": 4,
   "id": "d51b63c7",
   "metadata": {},
   "outputs": [
    {
     "data": {
      "text/plain": [
       "32"
      ]
     },
     "execution_count": 4,
     "metadata": {},
     "output_type": "execute_result"
    }
   ],
   "source": [
    "# Sample size\n",
    "n = df.shape[0]\n",
    "n"
   ]
  },
  {
   "cell_type": "markdown",
   "id": "d91d52f4",
   "metadata": {},
   "source": [
    "**Target variable** is **mpg**. We define it as matrix of order $n\\times 1$."
   ]
  },
  {
   "cell_type": "code",
   "execution_count": 6,
   "id": "8160a753",
   "metadata": {},
   "outputs": [
    {
     "data": {
      "text/plain": [
       "matrix([[21. ],\n",
       "        [21. ],\n",
       "        [22.8],\n",
       "        [21.4]])"
      ]
     },
     "execution_count": 6,
     "metadata": {},
     "output_type": "execute_result"
    }
   ],
   "source": [
    "y = np.transpose(np.asmatrix(df['mpg']))\n",
    "y[0:4]"
   ]
  },
  {
   "cell_type": "markdown",
   "id": "739ee512",
   "metadata": {},
   "source": [
    "We consider the **hp**, **wt**, and **disp** as the predictor in our model. So model we are fitting is\n"
   ]
  },
  {
   "cell_type": "markdown",
   "id": "11110d3d",
   "metadata": {},
   "source": [
    "$$\n",
    "\\text{mpg} = \\beta_0 + \\beta_1 \\text{hp} + \\beta_2 \\text{wt} + \\beta_3 \\text{disp} + \\varepsilon\n",
    "$$"
   ]
  },
  {
   "cell_type": "code",
   "execution_count": 7,
   "id": "b40cf800",
   "metadata": {},
   "outputs": [
    {
     "data": {
      "text/html": [
       "<div>\n",
       "<style scoped>\n",
       "    .dataframe tbody tr th:only-of-type {\n",
       "        vertical-align: middle;\n",
       "    }\n",
       "\n",
       "    .dataframe tbody tr th {\n",
       "        vertical-align: top;\n",
       "    }\n",
       "\n",
       "    .dataframe thead th {\n",
       "        text-align: right;\n",
       "    }\n",
       "</style>\n",
       "<table border=\"1\" class=\"dataframe\">\n",
       "  <thead>\n",
       "    <tr style=\"text-align: right;\">\n",
       "      <th></th>\n",
       "      <th>0</th>\n",
       "    </tr>\n",
       "  </thead>\n",
       "  <tbody>\n",
       "    <tr>\n",
       "      <th>0</th>\n",
       "      <td>1.0</td>\n",
       "    </tr>\n",
       "    <tr>\n",
       "      <th>1</th>\n",
       "      <td>1.0</td>\n",
       "    </tr>\n",
       "    <tr>\n",
       "      <th>2</th>\n",
       "      <td>1.0</td>\n",
       "    </tr>\n",
       "    <tr>\n",
       "      <th>3</th>\n",
       "      <td>1.0</td>\n",
       "    </tr>\n",
       "    <tr>\n",
       "      <th>4</th>\n",
       "      <td>1.0</td>\n",
       "    </tr>\n",
       "    <tr>\n",
       "      <th>5</th>\n",
       "      <td>1.0</td>\n",
       "    </tr>\n",
       "    <tr>\n",
       "      <th>6</th>\n",
       "      <td>1.0</td>\n",
       "    </tr>\n",
       "    <tr>\n",
       "      <th>7</th>\n",
       "      <td>1.0</td>\n",
       "    </tr>\n",
       "    <tr>\n",
       "      <th>8</th>\n",
       "      <td>1.0</td>\n",
       "    </tr>\n",
       "    <tr>\n",
       "      <th>9</th>\n",
       "      <td>1.0</td>\n",
       "    </tr>\n",
       "    <tr>\n",
       "      <th>10</th>\n",
       "      <td>1.0</td>\n",
       "    </tr>\n",
       "    <tr>\n",
       "      <th>11</th>\n",
       "      <td>1.0</td>\n",
       "    </tr>\n",
       "    <tr>\n",
       "      <th>12</th>\n",
       "      <td>1.0</td>\n",
       "    </tr>\n",
       "    <tr>\n",
       "      <th>13</th>\n",
       "      <td>1.0</td>\n",
       "    </tr>\n",
       "    <tr>\n",
       "      <th>14</th>\n",
       "      <td>1.0</td>\n",
       "    </tr>\n",
       "    <tr>\n",
       "      <th>15</th>\n",
       "      <td>1.0</td>\n",
       "    </tr>\n",
       "    <tr>\n",
       "      <th>16</th>\n",
       "      <td>1.0</td>\n",
       "    </tr>\n",
       "    <tr>\n",
       "      <th>17</th>\n",
       "      <td>1.0</td>\n",
       "    </tr>\n",
       "    <tr>\n",
       "      <th>18</th>\n",
       "      <td>1.0</td>\n",
       "    </tr>\n",
       "    <tr>\n",
       "      <th>19</th>\n",
       "      <td>1.0</td>\n",
       "    </tr>\n",
       "    <tr>\n",
       "      <th>20</th>\n",
       "      <td>1.0</td>\n",
       "    </tr>\n",
       "    <tr>\n",
       "      <th>21</th>\n",
       "      <td>1.0</td>\n",
       "    </tr>\n",
       "    <tr>\n",
       "      <th>22</th>\n",
       "      <td>1.0</td>\n",
       "    </tr>\n",
       "    <tr>\n",
       "      <th>23</th>\n",
       "      <td>1.0</td>\n",
       "    </tr>\n",
       "    <tr>\n",
       "      <th>24</th>\n",
       "      <td>1.0</td>\n",
       "    </tr>\n",
       "    <tr>\n",
       "      <th>25</th>\n",
       "      <td>1.0</td>\n",
       "    </tr>\n",
       "    <tr>\n",
       "      <th>26</th>\n",
       "      <td>1.0</td>\n",
       "    </tr>\n",
       "    <tr>\n",
       "      <th>27</th>\n",
       "      <td>1.0</td>\n",
       "    </tr>\n",
       "    <tr>\n",
       "      <th>28</th>\n",
       "      <td>1.0</td>\n",
       "    </tr>\n",
       "    <tr>\n",
       "      <th>29</th>\n",
       "      <td>1.0</td>\n",
       "    </tr>\n",
       "    <tr>\n",
       "      <th>30</th>\n",
       "      <td>1.0</td>\n",
       "    </tr>\n",
       "    <tr>\n",
       "      <th>31</th>\n",
       "      <td>1.0</td>\n",
       "    </tr>\n",
       "  </tbody>\n",
       "</table>\n",
       "</div>"
      ],
      "text/plain": [
       "      0\n",
       "0   1.0\n",
       "1   1.0\n",
       "2   1.0\n",
       "3   1.0\n",
       "4   1.0\n",
       "5   1.0\n",
       "6   1.0\n",
       "7   1.0\n",
       "8   1.0\n",
       "9   1.0\n",
       "10  1.0\n",
       "11  1.0\n",
       "12  1.0\n",
       "13  1.0\n",
       "14  1.0\n",
       "15  1.0\n",
       "16  1.0\n",
       "17  1.0\n",
       "18  1.0\n",
       "19  1.0\n",
       "20  1.0\n",
       "21  1.0\n",
       "22  1.0\n",
       "23  1.0\n",
       "24  1.0\n",
       "25  1.0\n",
       "26  1.0\n",
       "27  1.0\n",
       "28  1.0\n",
       "29  1.0\n",
       "30  1.0\n",
       "31  1.0"
      ]
     },
     "execution_count": 7,
     "metadata": {},
     "output_type": "execute_result"
    }
   ],
   "source": [
    "## First we define intercept of the model\n",
    "Intercept = pd.DataFrame(np.ones(n))\n",
    "Intercept"
   ]
  },
  {
   "cell_type": "code",
   "execution_count": 8,
   "id": "13ee2b31",
   "metadata": {},
   "outputs": [
    {
     "data": {
      "text/html": [
       "<div>\n",
       "<style scoped>\n",
       "    .dataframe tbody tr th:only-of-type {\n",
       "        vertical-align: middle;\n",
       "    }\n",
       "\n",
       "    .dataframe tbody tr th {\n",
       "        vertical-align: top;\n",
       "    }\n",
       "\n",
       "    .dataframe thead th {\n",
       "        text-align: right;\n",
       "    }\n",
       "</style>\n",
       "<table border=\"1\" class=\"dataframe\">\n",
       "  <thead>\n",
       "    <tr style=\"text-align: right;\">\n",
       "      <th></th>\n",
       "      <th>0</th>\n",
       "      <th>hp</th>\n",
       "      <th>wt</th>\n",
       "      <th>disp</th>\n",
       "    </tr>\n",
       "  </thead>\n",
       "  <tbody>\n",
       "    <tr>\n",
       "      <th>0</th>\n",
       "      <td>1.0</td>\n",
       "      <td>110</td>\n",
       "      <td>2.620</td>\n",
       "      <td>160.0</td>\n",
       "    </tr>\n",
       "    <tr>\n",
       "      <th>1</th>\n",
       "      <td>1.0</td>\n",
       "      <td>110</td>\n",
       "      <td>2.875</td>\n",
       "      <td>160.0</td>\n",
       "    </tr>\n",
       "    <tr>\n",
       "      <th>2</th>\n",
       "      <td>1.0</td>\n",
       "      <td>93</td>\n",
       "      <td>2.320</td>\n",
       "      <td>108.0</td>\n",
       "    </tr>\n",
       "    <tr>\n",
       "      <th>3</th>\n",
       "      <td>1.0</td>\n",
       "      <td>110</td>\n",
       "      <td>3.215</td>\n",
       "      <td>258.0</td>\n",
       "    </tr>\n",
       "    <tr>\n",
       "      <th>4</th>\n",
       "      <td>1.0</td>\n",
       "      <td>175</td>\n",
       "      <td>3.440</td>\n",
       "      <td>360.0</td>\n",
       "    </tr>\n",
       "  </tbody>\n",
       "</table>\n",
       "</div>"
      ],
      "text/plain": [
       "     0   hp     wt   disp\n",
       "0  1.0  110  2.620  160.0\n",
       "1  1.0  110  2.875  160.0\n",
       "2  1.0   93  2.320  108.0\n",
       "3  1.0  110  3.215  258.0\n",
       "4  1.0  175  3.440  360.0"
      ]
     },
     "execution_count": 8,
     "metadata": {},
     "output_type": "execute_result"
    }
   ],
   "source": [
    "## We consider 3 variables as predictors, i.e., 'hp','wt','disp' as predictor for 'mpg'\n",
    "Xdf = df[['hp','wt','disp']]\n",
    "\n",
    "## Add intercept to Xdf\n",
    "Xdf = pd.concat([Intercept,Xdf],axis=1)\n",
    "Xdf.head()"
   ]
  },
  {
   "cell_type": "markdown",
   "id": "77932dae",
   "metadata": {},
   "source": [
    "The design matrix $X$ is defined as matrix `X` from `Xdf` which is of the datatype of DataFrame"
   ]
  },
  {
   "cell_type": "code",
   "execution_count": 9,
   "id": "4df4743b",
   "metadata": {},
   "outputs": [
    {
     "data": {
      "text/plain": [
       "matrix([[  1.   , 110.   ,   2.62 , 160.   ],\n",
       "        [  1.   , 110.   ,   2.875, 160.   ],\n",
       "        [  1.   ,  93.   ,   2.32 , 108.   ],\n",
       "        [  1.   , 110.   ,   3.215, 258.   ],\n",
       "        [  1.   , 175.   ,   3.44 , 360.   ]])"
      ]
     },
     "execution_count": 9,
     "metadata": {},
     "output_type": "execute_result"
    }
   ],
   "source": [
    "X = np.asmatrix(Xdf)\n",
    "X[0:5,:]"
   ]
  },
  {
   "cell_type": "markdown",
   "id": "51bf502c",
   "metadata": {},
   "source": [
    "Define $X'$"
   ]
  },
  {
   "cell_type": "code",
   "execution_count": 10,
   "id": "78129af6",
   "metadata": {},
   "outputs": [],
   "source": [
    "Xt = np.transpose(X)"
   ]
  },
  {
   "cell_type": "markdown",
   "id": "54c092d0",
   "metadata": {},
   "source": [
    "Calculate $X'X$"
   ]
  },
  {
   "cell_type": "code",
   "execution_count": 11,
   "id": "5e02bd0f",
   "metadata": {},
   "outputs": [
    {
     "data": {
      "text/plain": [
       "matrix([[3.20000000e+01, 4.69400000e+03, 1.02952000e+02, 7.38310000e+03],\n",
       "        [4.69400000e+03, 8.34278000e+05, 1.64717440e+04, 1.29136440e+06],\n",
       "        [1.02952000e+02, 1.64717440e+04, 3.60901070e+02, 2.70914888e+04],\n",
       "        [7.38310000e+03, 1.29136440e+06, 2.70914888e+04, 2.17962747e+06]])"
      ]
     },
     "execution_count": 11,
     "metadata": {},
     "output_type": "execute_result"
    }
   ],
   "source": [
    "Xt*X"
   ]
  },
  {
   "cell_type": "markdown",
   "id": "3ea21831",
   "metadata": {},
   "source": [
    "Calculate $(X'X)^{-1}$"
   ]
  },
  {
   "cell_type": "code",
   "execution_count": 13,
   "id": "0da5b33c",
   "metadata": {},
   "outputs": [
    {
     "data": {
      "text/plain": [
       "matrix([[ 6.39800586e-01, -1.29284038e-03, -2.73552559e-01,\n",
       "          1.99885645e-03],\n",
       "        [-1.29284038e-03,  1.87791901e-05,  2.71270749e-04,\n",
       "         -1.01185806e-05],\n",
       "        [-2.73552559e-01,  2.71270749e-04,  1.63235239e-01,\n",
       "         -1.26302737e-03],\n",
       "        [ 1.99885645e-03, -1.01185806e-05, -1.26302737e-03,\n",
       "          1.53816695e-05]])"
      ]
     },
     "execution_count": 13,
     "metadata": {},
     "output_type": "execute_result"
    }
   ],
   "source": [
    "XtxX_inv = np.linalg.inv(Xt*X)\n",
    "XtxX_inv"
   ]
  },
  {
   "cell_type": "markdown",
   "id": "d75b41d2",
   "metadata": {},
   "source": [
    "Calculate $\\hat{\\beta}=(X'X)^{-1}X'y$"
   ]
  },
  {
   "cell_type": "code",
   "execution_count": 14,
   "id": "38f09773",
   "metadata": {},
   "outputs": [
    {
     "data": {
      "text/plain": [
       "matrix([[ 3.71055053e+01],\n",
       "        [-3.11565508e-02],\n",
       "        [-3.80089058e+00],\n",
       "        [-9.37009081e-04]])"
      ]
     },
     "execution_count": 14,
     "metadata": {},
     "output_type": "execute_result"
    }
   ],
   "source": [
    "beta_hat = XtxX_inv*Xt*y\n",
    "beta_hat"
   ]
  },
  {
   "cell_type": "code",
   "execution_count": 15,
   "id": "03d63ca5",
   "metadata": {},
   "outputs": [
    {
     "data": {
      "text/plain": [
       "array([[ 3.71055e+01],\n",
       "       [-3.12000e-02],\n",
       "       [-3.80090e+00],\n",
       "       [-9.00000e-04]])"
      ]
     },
     "execution_count": 15,
     "metadata": {},
     "output_type": "execute_result"
    }
   ],
   "source": [
    "np.round(beta_hat,4)"
   ]
  },
  {
   "cell_type": "markdown",
   "id": "80bb17ec",
   "metadata": {},
   "source": [
    "Now we are going implement the OLS estimation using the `statsmodels` package"
   ]
  },
  {
   "cell_type": "code",
   "execution_count": 16,
   "id": "6e235c48",
   "metadata": {},
   "outputs": [],
   "source": [
    "import statsmodels.api as sm"
   ]
  },
  {
   "cell_type": "code",
   "execution_count": 17,
   "id": "705f04c8",
   "metadata": {},
   "outputs": [
    {
     "name": "stdout",
     "output_type": "stream",
     "text": [
      "                            OLS Regression Results                            \n",
      "==============================================================================\n",
      "Dep. Variable:                      y   R-squared:                       0.827\n",
      "Model:                            OLS   Adj. R-squared:                  0.808\n",
      "Method:                 Least Squares   F-statistic:                     44.57\n",
      "Date:                Wed, 19 Oct 2022   Prob (F-statistic):           8.65e-11\n",
      "Time:                        09:10:36   Log-Likelihood:                -74.321\n",
      "No. Observations:                  32   AIC:                             156.6\n",
      "Df Residuals:                      28   BIC:                             162.5\n",
      "Df Model:                           3                                         \n",
      "Covariance Type:            nonrobust                                         \n",
      "==============================================================================\n",
      "                 coef    std err          t      P>|t|      [0.025      0.975]\n",
      "------------------------------------------------------------------------------\n",
      "const         37.1055      2.111     17.579      0.000      32.782      41.429\n",
      "x1            -0.0312      0.011     -2.724      0.011      -0.055      -0.008\n",
      "x2            -3.8009      1.066     -3.565      0.001      -5.985      -1.617\n",
      "x3            -0.0009      0.010     -0.091      0.929      -0.022       0.020\n",
      "==============================================================================\n",
      "Omnibus:                        5.269   Durbin-Watson:                   1.367\n",
      "Prob(Omnibus):                  0.072   Jarque-Bera (JB):                4.038\n",
      "Skew:                           0.856   Prob(JB):                        0.133\n",
      "Kurtosis:                       3.310   Cond. No.                     1.50e+03\n",
      "==============================================================================\n",
      "\n",
      "Notes:\n",
      "[1] Standard Errors assume that the covariance matrix of the errors is correctly specified.\n",
      "[2] The condition number is large, 1.5e+03. This might indicate that there are\n",
      "strong multicollinearity or other numerical problems.\n"
     ]
    }
   ],
   "source": [
    "#fit linear regression model\n",
    "model = sm.OLS(y, X).fit()\n",
    "\n",
    "#view model summary\n",
    "print(model.summary())"
   ]
  },
  {
   "cell_type": "markdown",
   "id": "65c6d556",
   "metadata": {},
   "source": [
    "## Self-Learning Exercise:\n",
    "\n",
    "(**Not for grading**)\n",
    "\n",
    "Implement the same OLS method using the `sklearn` package of Python"
   ]
  }
 ],
 "metadata": {
  "kernelspec": {
   "display_name": "Python 3 (ipykernel)",
   "language": "python",
   "name": "python3"
  },
  "language_info": {
   "codemirror_mode": {
    "name": "ipython",
    "version": 3
   },
   "file_extension": ".py",
   "mimetype": "text/x-python",
   "name": "python",
   "nbconvert_exporter": "python",
   "pygments_lexer": "ipython3",
   "version": "3.9.7"
  }
 },
 "nbformat": 4,
 "nbformat_minor": 5
}
